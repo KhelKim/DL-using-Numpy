{
 "cells": [
  {
   "cell_type": "code",
   "execution_count": 1,
   "metadata": {},
   "outputs": [],
   "source": [
    "%run ../../chap01/codes/implement.ipynb\n",
    "%run implement.ipynb"
   ]
  },
  {
   "cell_type": "code",
   "execution_count": 2,
   "metadata": {},
   "outputs": [
    {
     "name": "stdout",
     "output_type": "stream",
     "text": [
      "은닉 계층 0개를 갖는 다층 퍼셉트론이 작동되었습니다.\n",
      "Epoch 1: loss= 33.875, accuracy=  0.557(train),   0.812(test)\n",
      "Epoch 2: loss=  8.226, accuracy=  0.820(train),   0.814(test)\n",
      "Epoch 3: loss=  7.582, accuracy=  0.812(train),   0.809(test)\n",
      "Epoch 4: loss=  7.475, accuracy=  0.808(train),   0.811(test)\n",
      "Epoch 5: loss=  7.395, accuracy=  0.810(train),   0.809(test)\n",
      "Epoch 6: loss=  7.328, accuracy=  0.808(train),   0.810(test)\n",
      "Epoch 7: loss=  7.269, accuracy=  0.808(train),   0.811(test)\n",
      "Epoch 8: loss=  7.217, accuracy=  0.808(train),   0.812(test)\n",
      "Epoch 9: loss=  7.175, accuracy=  0.810(train),   0.810(test)\n",
      "Epoch 10: loss=  7.135, accuracy=  0.809(train),   0.810(test)\n",
      "\n",
      "Final Test: final accuracy =   0.810\n"
     ]
    }
   ],
   "source": [
    "set_hidden([])\n",
    "abalone_exec()"
   ]
  },
  {
   "cell_type": "code",
   "execution_count": 3,
   "metadata": {},
   "outputs": [
    {
     "name": "stdout",
     "output_type": "stream",
     "text": [
      "은닉 계층 하나를 갖는 다층 퍼셉트론이 작동되었습니다.\n",
      "Epoch 10: loss=  6.849, accuracy=  0.806(train),   0.803(test)\n",
      "Epoch 20: loss=  6.294, accuracy=  0.815(train),   0.812(test)\n",
      "Epoch 30: loss=  5.572, accuracy=  0.827(train),   0.840(test)\n",
      "Epoch 40: loss=  5.105, accuracy=  0.835(train),   0.842(test)\n",
      "Epoch 50: loss=  4.955, accuracy=  0.838(train),   0.837(test)\n",
      "\n",
      "Final Test: final accuracy =   0.837\n"
     ]
    }
   ],
   "source": [
    "set_hidden(4)\n",
    "abalone_exec(epoch_count=50, report=10)"
   ]
  },
  {
   "cell_type": "code",
   "execution_count": 4,
   "metadata": {},
   "outputs": [
    {
     "name": "stdout",
     "output_type": "stream",
     "text": [
      "은닉 계층 하나를 갖는 다층 퍼셉트론이 작동되었습니다.\n",
      "Epoch 10: loss=  6.757, accuracy=  0.808(train),   0.813(test)\n",
      "Epoch 20: loss=  6.255, accuracy=  0.817(train),   0.817(test)\n",
      "Epoch 30: loss=  5.554, accuracy=  0.829(train),   0.819(test)\n",
      "Epoch 40: loss=  5.093, accuracy=  0.837(train),   0.845(test)\n",
      "Epoch 50: loss=  4.948, accuracy=  0.840(train),   0.827(test)\n",
      "\n",
      "Final Test: final accuracy =   0.827\n"
     ]
    }
   ],
   "source": [
    "abalone_exec(epoch_count=50, report=10)"
   ]
  },
  {
   "cell_type": "code",
   "execution_count": 5,
   "metadata": {},
   "outputs": [],
   "source": [
    "%run ../../chap02/codes/implement.ipynb\n",
    "%run implement.ipynb"
   ]
  },
  {
   "cell_type": "code",
   "execution_count": 6,
   "metadata": {},
   "outputs": [
    {
     "name": "stdout",
     "output_type": "stream",
     "text": [
      "은닉 계층 1개를 갖는 다층 퍼셉트론이 작동되었습니다.\n",
      "Epoch 10: loss=  0.094, accuracy=  0.972(train),   0.972(test)\n",
      "Epoch 20: loss=  0.091, accuracy=  0.973(train),   0.974(test)\n",
      "Epoch 30: loss=  0.091, accuracy=  0.973(train),   0.974(test)\n",
      "Epoch 40: loss=  0.089, accuracy=  0.974(train),   0.974(test)\n",
      "Epoch 50: loss=  0.089, accuracy=  0.974(train),   0.975(test)\n",
      "\n",
      "Final Test: final accuracy =   0.975\n"
     ]
    }
   ],
   "source": [
    "set_hidden([6])\n",
    "pulsar_exec(epoch_count=50, report=10)"
   ]
  },
  {
   "cell_type": "code",
   "execution_count": 7,
   "metadata": {},
   "outputs": [
    {
     "name": "stdout",
     "output_type": "stream",
     "text": [
      "은닉 계층 2개를 갖는 다층 퍼셉트론이 작동되었습니다.\n",
      "Epoch 40: loss=  0.087, accuracy=  0.975(train),   0.970(test)\n",
      "Epoch 80: loss=  0.083, accuracy=  0.977(train),   0.972(test)\n",
      "Epoch 120: loss=  0.081, accuracy=  0.977(train),   0.969(test)\n",
      "Epoch 160: loss=  0.081, accuracy=  0.977(train),   0.972(test)\n",
      "Epoch 200: loss=  0.080, accuracy=  0.976(train),   0.972(test)\n",
      "\n",
      "Final Test: final accuracy =   0.972\n"
     ]
    }
   ],
   "source": [
    "set_hidden([12, 6])\n",
    "pulsar_exec(epoch_count=200, report=40)"
   ]
  },
  {
   "cell_type": "code",
   "execution_count": 8,
   "metadata": {},
   "outputs": [],
   "source": [
    "%run ../../chap03/codes/implement.ipynb\n",
    "%run implement.ipynb"
   ]
  },
  {
   "cell_type": "code",
   "execution_count": 9,
   "metadata": {},
   "outputs": [
    {
     "name": "stdout",
     "output_type": "stream",
     "text": [
      "은닉 계층 하나를 갖는 다층 퍼셉트론이 작동되었습니다.\n",
      "Epoch 10: loss=  1.849, accuracy=  0.352(train),   0.325(test)\n",
      "Epoch 20: loss=  1.786, accuracy=  0.352(train),   0.325(test)\n",
      "Epoch 30: loss=  1.747, accuracy=  0.352(train),   0.325(test)\n",
      "Epoch 40: loss=  1.723, accuracy=  0.352(train),   0.325(test)\n",
      "Epoch 50: loss=  1.708, accuracy=  0.352(train),   0.325(test)\n",
      "\n",
      "Final Test: final accuracy =   0.325\n"
     ]
    }
   ],
   "source": [
    "set_hidden(10)\n",
    "steel_exec(epoch_count=50, report=10)"
   ]
  },
  {
   "cell_type": "code",
   "execution_count": 10,
   "metadata": {},
   "outputs": [
    {
     "name": "stdout",
     "output_type": "stream",
     "text": [
      "은닉 계층 3개를 갖는 다층 퍼셉트론이 작동되었습니다.\n",
      "Epoch 10: loss=  1.855, accuracy=  0.346(train),   0.350(test)\n",
      "Epoch 20: loss=  1.795, accuracy=  0.346(train),   0.350(test)\n",
      "Epoch 30: loss=  1.758, accuracy=  0.346(train),   0.350(test)\n",
      "Epoch 40: loss=  1.735, accuracy=  0.346(train),   0.350(test)\n",
      "Epoch 50: loss=  1.721, accuracy=  0.346(train),   0.350(test)\n",
      "\n",
      "Final Test: final accuracy =   0.350\n"
     ]
    }
   ],
   "source": [
    "set_hidden([12, 6, 4])\n",
    "steel_exec(epoch_count=50, report=10)"
   ]
  },
  {
   "cell_type": "code",
   "execution_count": 11,
   "metadata": {},
   "outputs": [
    {
     "name": "stdout",
     "output_type": "stream",
     "text": [
      "은닉 계층 3개를 갖는 다층 퍼셉트론이 작동되었습니다.\n",
      "Epoch 10: loss=  1.738, accuracy=  0.257(train),   0.182(test)\n",
      "Epoch 20: loss=  1.618, accuracy=  0.315(train),   0.468(test)\n",
      "Epoch 30: loss=  1.604, accuracy=  0.390(train),   0.389(test)\n",
      "Epoch 40: loss=  1.594, accuracy=  0.422(train),   0.471(test)\n",
      "Epoch 50: loss=  1.584, accuracy=  0.444(train),   0.471(test)\n",
      "\n",
      "Final Test: final accuracy =   0.471\n"
     ]
    }
   ],
   "source": [
    "_learning_rate = 1e-4\n",
    "set_hidden([12, 6, 4])\n",
    "steel_exec(epoch_count=50, report=10)"
   ]
  },
  {
   "cell_type": "code",
   "execution_count": null,
   "metadata": {},
   "outputs": [],
   "source": []
  }
 ],
 "metadata": {
  "kernelspec": {
   "display_name": "Python 3",
   "language": "python",
   "name": "python3"
  },
  "language_info": {
   "codemirror_mode": {
    "name": "ipython",
    "version": 3
   },
   "file_extension": ".py",
   "mimetype": "text/x-python",
   "name": "python",
   "nbconvert_exporter": "python",
   "pygments_lexer": "ipython3",
   "version": "3.6.8"
  }
 },
 "nbformat": 4,
 "nbformat_minor": 4
}
