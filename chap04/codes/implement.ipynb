{
 "cells": [
  {
   "cell_type": "code",
   "execution_count": 1,
   "metadata": {},
   "outputs": [],
   "source": [
    "# %run ../../chap01/codes/implement.ipynb"
   ]
  },
  {
   "cell_type": "code",
   "execution_count": 2,
   "metadata": {},
   "outputs": [],
   "source": [
    "def init_model_hidden1():\n",
    "    global pm_output, pm_hidden\n",
    "    \n",
    "    pm_hidden = alloc_param_pair([input_cnt, hidden_cnt])\n",
    "    pm_output = alloc_param_pair([hidden_cnt, output_cnt])\n",
    "    \n",
    "    \n",
    "def alloc_param_pair(shape):\n",
    "    weight = np.random.normal(_rnd_mean, _rnd_std, shape)\n",
    "    bias = np.zeros(shape[-1])\n",
    "    return {'w': weight, 'b': bias}\n"
   ]
  },
  {
   "cell_type": "code",
   "execution_count": 3,
   "metadata": {},
   "outputs": [],
   "source": [
    "def forward_neuralnet_hidden1(x):\n",
    "    hidden = relu(np.matmul(x, pm_hidden['w']) + pm_hidden['b'])\n",
    "    output = np.matmul(hidden, pm_output['w']) + pm_output['b']\n",
    "    return output, [x, hidden]\n",
    "\n",
    "\n",
    "def relu(x):\n",
    "    return np.maximum(x, 0)\n"
   ]
  },
  {
   "cell_type": "code",
   "execution_count": 4,
   "metadata": {},
   "outputs": [],
   "source": [
    "def backprop_neuralnet_hidden1(G_output, aux):\n",
    "    global pm_output, pm_hidden\n",
    "    x, hidden = aux\n",
    "    \n",
    "    # 출력층 그래디언트\n",
    "    g_output_w_out = hidden.transpose()\n",
    "    G_w_out = np.matmul(g_output_w_out, G_output)\n",
    "    G_b_out = np.sum(G_output, axis=0)\n",
    "    \n",
    "    # 은닉층 그래디언트를 구하기위해 출력층 가중치들을 저장\n",
    "    g_output_hidden = pm_output['w'].transpose()\n",
    "    G_hidden = np.matmul(G_output, g_output_hidden)\n",
    "    \n",
    "    pm_output['w'] -= _learning_rate * G_w_out\n",
    "    pm_output['b'] -= _learning_rate * G_b_out\n",
    "    \n",
    "    G_hidden = G_hidden * relu_derv(hidden)\n",
    "    g_hidden_w_hid = x.transpose()\n",
    "    G_w_hid = np.matmul(g_hidden_w_hid, G_hidden)\n",
    "    G_b_hid = np.sum(G_hidden, axis=0)\n",
    "    \n",
    "    pm_hidden['w'] -= _learning_rate * G_w_hid\n",
    "    pm_hidden['b'] -= _learning_rate * G_b_hid\n",
    "    \n",
    "    \n",
    "\n",
    "def relu_derv(y):\n",
    "    return np.sign(y)\n"
   ]
  },
  {
   "cell_type": "code",
   "execution_count": 5,
   "metadata": {},
   "outputs": [],
   "source": [
    "def init_model_hiddens():\n",
    "    global pm_output, pm_hiddens\n",
    "    \n",
    "    pm_hiddens = []\n",
    "    prev_cnt = input_cnt\n",
    "\n",
    "    for hidden_cnt in hidden_config:\n",
    "        pm_hiddens.append(alloc_param_pair([prev_cnt, hidden_cnt]))\n",
    "        prev_cnt = hidden_cnt\n",
    "        \n",
    "    pm_output = alloc_param_pair([prev_cnt, output_cnt])\n",
    "    "
   ]
  },
  {
   "cell_type": "code",
   "execution_count": 6,
   "metadata": {},
   "outputs": [],
   "source": [
    "def forward_neuralnet_hiddens(x):\n",
    "    hidden = x\n",
    "    hiddens = [x]\n",
    "    \n",
    "    for pm_hidden in pm_hiddens:\n",
    "        hidden = relu(np.matmul(hidden, pm_hidden['w']) + pm_hidden['b'])\n",
    "        hiddens.append(hidden)\n",
    "        \n",
    "    output = np.matmul(hidden, pm_output['w']) + pm_output['b']\n",
    "    \n",
    "    return output, hiddens"
   ]
  },
  {
   "cell_type": "code",
   "execution_count": 7,
   "metadata": {},
   "outputs": [],
   "source": [
    "def backprop_neuralnet_hiddens(G_output, aux):\n",
    "    global pm_output, pm_hiddens\n",
    "    hiddens = aux  # 가독성의 이유로...\n",
    "    \n",
    "    g_output_w_out = hiddens[-1].transpose()\n",
    "    G_w_out = np.matmul(g_output_w_out, G_output)\n",
    "    G_b_out = np.sum(G_output, axis=0)\n",
    "    \n",
    "    g_output_hidden = pm_output['w'].transpose()\n",
    "    G_hidden = np.matmul(G_output, g_output_hidden)\n",
    "    \n",
    "    pm_output['w'] -= _learning_rate * G_w_out\n",
    "    pm_output['b'] -= _learning_rate * G_b_out\n",
    "    \n",
    "    for n in reversed(range(len(pm_hiddens))):\n",
    "        G_hidden = G_hidden * relu_derv(hiddens[n+1])\n",
    "        \n",
    "        g_hidden_w_hid = hiddens[n].transpose()\n",
    "        G_w_hid = np.matmul(g_hidden_w_hid, G_hidden)\n",
    "        G_b_hid = np.sum(G_hidden, axis=0)\n",
    "        \n",
    "        g_hidden_hidden = pm_hiddens[n]['w'].transpose()\n",
    "        G_hidden = np.matmul(G_hidden, g_hidden_hidden)\n",
    "\n",
    "        pm_hiddens[n]['w'] -= _learning_rate * G_w_hid\n",
    "        pm_hiddens[n]['b'] -= _learning_rate * G_b_hid\n"
   ]
  },
  {
   "cell_type": "code",
   "execution_count": 10,
   "metadata": {},
   "outputs": [],
   "source": [
    "def init_model():\n",
    "    if hidden_config is not None:\n",
    "        print(\"은닉 계층 {}개를 갖는 다층 퍼셉트론이 작동되었습니다.\".format(len(hidden_config)))\n",
    "        init_model_hiddens()\n",
    "    else:\n",
    "        print(\"은닉 계층 하나를 갖는 다층 퍼셉트론이 작동되었습니다.\")\n",
    "        init_model_hidden1()\n",
    "        \n",
    "\n",
    "def forward_neuralnet(x):\n",
    "    if hidden_config is not None:\n",
    "        return forward_neuralnet_hiddens(x)\n",
    "    else:\n",
    "        return forward_neuralnet_hidden1(x)\n",
    "    \n",
    "    \n",
    "def backprop_neuralnet(G_output, hiddens):\n",
    "    if hidden_config is not None:\n",
    "        backprop_neuralnet_hiddens(G_output, hiddens)\n",
    "    else:\n",
    "        backprop_neuralnet_hidden1(G_output, hiddens)"
   ]
  },
  {
   "cell_type": "code",
   "execution_count": 9,
   "metadata": {},
   "outputs": [],
   "source": [
    "def set_hidden(info):\n",
    "    global hidden_cnt, hidden_config\n",
    "    if isinstance(info, int):\n",
    "        hidden_cnt = info\n",
    "        hidden_config = None\n",
    "    else:\n",
    "        hidden_config = info\n",
    "        "
   ]
  },
  {
   "cell_type": "code",
   "execution_count": null,
   "metadata": {},
   "outputs": [],
   "source": []
  }
 ],
 "metadata": {
  "kernelspec": {
   "display_name": "Python 3",
   "language": "python",
   "name": "python3"
  },
  "language_info": {
   "codemirror_mode": {
    "name": "ipython",
    "version": 3
   },
   "file_extension": ".py",
   "mimetype": "text/x-python",
   "name": "python",
   "nbconvert_exporter": "python",
   "pygments_lexer": "ipython3",
   "version": "3.6.8"
  }
 },
 "nbformat": 4,
 "nbformat_minor": 4
}
