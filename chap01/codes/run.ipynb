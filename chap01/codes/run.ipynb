{
 "cells": [
  {
   "cell_type": "code",
   "execution_count": 2,
   "metadata": {},
   "outputs": [],
   "source": [
    "%run implement.py"
   ]
  },
  {
   "cell_type": "code",
   "execution_count": 3,
   "metadata": {},
   "outputs": [
    {
     "name": "stdout",
     "output_type": "stream",
     "text": [
      "Epoch 1: loss= 33.875, accuracy=  0.557(train),   0.812(test)\n",
      "Epoch 2: loss=  8.226, accuracy=  0.820(train),   0.814(test)\n",
      "Epoch 3: loss=  7.582, accuracy=  0.812(train),   0.809(test)\n",
      "Epoch 4: loss=  7.475, accuracy=  0.808(train),   0.811(test)\n",
      "Epoch 5: loss=  7.395, accuracy=  0.810(train),   0.809(test)\n",
      "Epoch 6: loss=  7.328, accuracy=  0.808(train),   0.810(test)\n",
      "Epoch 7: loss=  7.269, accuracy=  0.808(train),   0.811(test)\n",
      "Epoch 8: loss=  7.217, accuracy=  0.808(train),   0.812(test)\n",
      "Epoch 9: loss=  7.175, accuracy=  0.810(train),   0.810(test)\n",
      "Epoch 10: loss=  7.135, accuracy=  0.809(train),   0.810(test)\n",
      "\n",
      "Final Test: final accuracy =   0.810\n"
     ]
    }
   ],
   "source": [
    "abalone_exec()"
   ]
  },
  {
   "cell_type": "code",
   "execution_count": null,
   "metadata": {},
   "outputs": [],
   "source": []
  }
 ],
 "metadata": {
  "kernelspec": {
   "display_name": "Python 3",
   "language": "python",
   "name": "python3"
  },
  "language_info": {
   "codemirror_mode": {
    "name": "ipython",
    "version": 3
   },
   "file_extension": ".py",
   "mimetype": "text/x-python",
   "name": "python",
   "nbconvert_exporter": "python",
   "pygments_lexer": "ipython3",
   "version": "3.6.8"
  }
 },
 "nbformat": 4,
 "nbformat_minor": 4
}
