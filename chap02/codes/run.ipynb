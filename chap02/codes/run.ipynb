{
 "cells": [
  {
   "cell_type": "code",
   "execution_count": 1,
   "metadata": {},
   "outputs": [],
   "source": [
    "%run implement.ipynb"
   ]
  },
  {
   "cell_type": "code",
   "execution_count": 2,
   "metadata": {},
   "outputs": [
    {
     "name": "stdout",
     "output_type": "stream",
     "text": [
      "Epoch 1: loss=  0.154, accuracy=  0.959(train),   0.972(test)\n",
      "Epoch 2: loss=  0.131, accuracy=  0.966(train),   0.972(test)\n",
      "Epoch 3: loss=  0.136, accuracy=  0.967(train),   0.970(test)\n",
      "Epoch 4: loss=  0.133, accuracy=  0.968(train),   0.970(test)\n",
      "Epoch 5: loss=  0.121, accuracy=  0.968(train),   0.969(test)\n",
      "Epoch 6: loss=  0.145, accuracy=  0.968(train),   0.974(test)\n",
      "Epoch 7: loss=  0.122, accuracy=  0.970(train),   0.975(test)\n",
      "Epoch 8: loss=  0.127, accuracy=  0.970(train),   0.976(test)\n",
      "Epoch 9: loss=  0.125, accuracy=  0.970(train),   0.976(test)\n",
      "Epoch 10: loss=  0.134, accuracy=  0.968(train),   0.976(test)\n",
      "\n",
      "Final Test: final accuracy =   0.976\n"
     ]
    }
   ],
   "source": [
    "pulsar_exec()"
   ]
  },
  {
   "cell_type": "code",
   "execution_count": null,
   "metadata": {},
   "outputs": [],
   "source": []
  },
  {
   "cell_type": "code",
   "execution_count": null,
   "metadata": {},
   "outputs": [],
   "source": []
  }
 ],
 "metadata": {
  "kernelspec": {
   "display_name": "Python 3",
   "language": "python",
   "name": "python3"
  },
  "language_info": {
   "codemirror_mode": {
    "name": "ipython",
    "version": 3
   },
   "file_extension": ".py",
   "mimetype": "text/x-python",
   "name": "python",
   "nbconvert_exporter": "python",
   "pygments_lexer": "ipython3",
   "version": "3.6.8"
  }
 },
 "nbformat": 4,
 "nbformat_minor": 4
}
