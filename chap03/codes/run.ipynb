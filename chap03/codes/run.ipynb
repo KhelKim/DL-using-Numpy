{
 "cells": [
  {
   "cell_type": "code",
   "execution_count": 1,
   "metadata": {},
   "outputs": [],
   "source": [
    "%run implement.ipynb"
   ]
  },
  {
   "cell_type": "code",
   "execution_count": 2,
   "metadata": {},
   "outputs": [
    {
     "name": "stdout",
     "output_type": "stream",
     "text": [
      "Epoch 1: loss= 15.984, accuracy=  0.306(train),   0.320(test)\n",
      "Epoch 2: loss= 15.509, accuracy=  0.326(train),   0.197(test)\n",
      "Epoch 3: loss= 15.984, accuracy=  0.306(train),   0.348(test)\n",
      "Epoch 4: loss= 15.004, accuracy=  0.348(train),   0.197(test)\n",
      "Epoch 5: loss= 15.286, accuracy=  0.336(train),   0.202(test)\n",
      "Epoch 6: loss= 15.390, accuracy=  0.332(train),   0.440(test)\n",
      "Epoch 7: loss= 15.509, accuracy=  0.326(train),   0.442(test)\n",
      "Epoch 8: loss= 15.628, accuracy=  0.321(train),   0.455(test)\n",
      "Epoch 9: loss= 15.360, accuracy=  0.333(train),   0.322(test)\n",
      "Epoch 10: loss= 15.316, accuracy=  0.335(train),   0.455(test)\n",
      "\n",
      "Final Test: final accuracy =   0.455\n"
     ]
    }
   ],
   "source": [
    "steel_exec()"
   ]
  },
  {
   "cell_type": "code",
   "execution_count": 3,
   "metadata": {},
   "outputs": [],
   "source": [
    "_learning_rate = 1e-4"
   ]
  },
  {
   "cell_type": "code",
   "execution_count": 5,
   "metadata": {},
   "outputs": [
    {
     "name": "stdout",
     "output_type": "stream",
     "text": [
      "Epoch 1: loss= 16.471, accuracy=  0.284(train),   0.110(test)\n",
      "Epoch 2: loss= 15.479, accuracy=  0.328(train),   0.414(test)\n",
      "Epoch 3: loss= 15.509, accuracy=  0.326(train),   0.402(test)\n",
      "Epoch 4: loss= 15.316, accuracy=  0.335(train),   0.432(test)\n",
      "Epoch 5: loss= 15.479, accuracy=  0.328(train),   0.338(test)\n",
      "Epoch 6: loss= 14.796, accuracy=  0.357(train),   0.332(test)\n",
      "Epoch 7: loss= 15.346, accuracy=  0.334(train),   0.215(test)\n",
      "Epoch 8: loss= 15.524, accuracy=  0.326(train),   0.164(test)\n",
      "Epoch 9: loss= 15.375, accuracy=  0.332(train),   0.281(test)\n",
      "Epoch 10: loss= 15.331, accuracy=  0.334(train),   0.189(test)\n",
      "\n",
      "Final Test: final accuracy =   0.189\n"
     ]
    }
   ],
   "source": [
    "steel_exec()"
   ]
  },
  {
   "cell_type": "code",
   "execution_count": null,
   "metadata": {},
   "outputs": [],
   "source": []
  }
 ],
 "metadata": {
  "kernelspec": {
   "display_name": "Python 3",
   "language": "python",
   "name": "python3"
  },
  "language_info": {
   "codemirror_mode": {
    "name": "ipython",
    "version": 3
   },
   "file_extension": ".py",
   "mimetype": "text/x-python",
   "name": "python",
   "nbconvert_exporter": "python",
   "pygments_lexer": "ipython3",
   "version": "3.6.8"
  }
 },
 "nbformat": 4,
 "nbformat_minor": 4
}
